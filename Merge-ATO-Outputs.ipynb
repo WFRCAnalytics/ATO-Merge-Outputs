{
 "cells": [
  {
   "cell_type": "code",
   "execution_count": 1,
   "metadata": {},
   "outputs": [
    {
     "name": "stdout",
     "output_type": "stream",
     "text": [
      "SQLalchemy is not installed. No support for SQL output.\n"
     ]
    }
   ],
   "source": [
    "#============================\n",
    "# Import required libraries\n",
    "#============================\n",
    "\n",
    "import pandas as pd\n",
    "from simpledbf import Dbf5\n",
    "import os"
   ]
  },
  {
   "cell_type": "code",
   "execution_count": 9,
   "metadata": {},
   "outputs": [
    {
     "name": "stdout",
     "output_type": "stream",
     "text": [
      "E:\\Projects\\Merge-ATO-Outputs\\TDM\\0 - ModelDev\\Official Release\\v8.3.1\\WF TDM v8.3.1 - 2020-05-08\\Scenarios\\BY_2019\\7_PostProcessing\\Access_to_Opportunity_2019.dbf\n",
      "\n",
      "E:\\Projects\\Merge-ATO-Outputs\\TDM\\0 - ModelDev\\Official Release\\v8.3.1\\WF TDM v8.3.1 - 2020-05-08\\Scenarios\\Need_2030\\7_PostProcessing\\Access_to_Opportunity_2030.dbf\n",
      "\n",
      "E:\\Projects\\Merge-ATO-Outputs\\TDM\\0 - ModelDev\\Official Release\\v8.3.1\\WF TDM v8.3.1 - 2020-05-08\\Scenarios\\Need_2040\\7_PostProcessing\\Access_to_Opportunity_2040.dbf\n",
      "\n",
      "E:\\Projects\\Merge-ATO-Outputs\\TDM\\0 - ModelDev\\Official Release\\v8.3.1\\WF TDM v8.3.1 - 2020-05-08\\Scenarios\\Need_2050\\7_PostProcessing\\Access_to_Opportunity_2050.dbf\n",
      "\n"
     ]
    }
   ],
   "source": [
    "#==========================================\n",
    "# Build paths to .dbf tables\n",
    "#==========================================\n",
    "\n",
    "# Store highest common directory path\n",
    "scenarios = os.path.join(os.getcwd(), r'TDM\\0 - ModelDev\\Official Release\\v8.3.1\\WF TDM v8.3.1 - 2020-05-08\\Scenarios')\n",
    "\n",
    "# Store path to 2019\n",
    "path_2019 = os.path.join(scenarios, r'BY_2019\\7_PostProcessing\\Access_to_Opportunity_2019.dbf')\n",
    "print(path_2019 + '\\n')\n",
    "\n",
    "# Store path to 2030\n",
    "path_2030 = os.path.join(scenarios, r'Need_2030\\7_PostProcessing\\Access_to_Opportunity_2030.dbf')\n",
    "print(path_2030 + '\\n')\n",
    "\n",
    "# Store path to 2040\n",
    "path_2040 = os.path.join(scenarios, r'Need_2040\\7_PostProcessing\\Access_to_Opportunity_2040.dbf')\n",
    "print(path_2040 + '\\n')\n",
    "\n",
    "# Store path to 2050\n",
    "path_2050 = os.path.join(scenarios, r'Need_2050\\7_PostProcessing\\Access_to_Opportunity_2050.dbf')\n",
    "print(path_2050 + '\\n')\n"
   ]
  },
  {
   "cell_type": "code",
   "execution_count": 10,
   "metadata": {},
   "outputs": [
    {
     "name": "stdout",
     "output_type": "stream",
     "text": [
      "   TAZID  CO_TAZID  DEVACRES    HH   JOB  AUTO_JB  AUTO_HH  TRAN_JB  TRAN_HH  \\\n",
      "0      1     30001    374.61   1.1   0.0    30077    20324        0        0   \n",
      "1      2     30002    638.02  15.2   3.6    32960    22318        0        0   \n",
      "2      3     30003    470.79   5.1   2.6    33930    22989        0        0   \n",
      "3      4     30004    779.84  21.0  24.1    33229    22504        0        0   \n",
      "4      5     30005    395.38  30.5  69.5    41843    28507        0        0   \n",
      "\n",
      "   COMP_AUTO  COMP_TRAN  AUTO_JB_WT  AUTO_HH_WT  TRAN_JB_WT  TRAN_HH_WT  \n",
      "0      30077          0       33085           0           0           0  \n",
      "1      31728          0      500993       80346           0           0  \n",
      "2      31525          0      173044       59772           0           0  \n",
      "3      29066          0      697807      542343           0           0  \n",
      "4      34409          0     1276226     1981242           0           0  \n"
     ]
    }
   ],
   "source": [
    "#==========================================\n",
    "# Load dbf tables into pandas dataframes\n",
    "#==========================================\n",
    "\n",
    "# 2019\n",
    "dbf_2019 = Dbf5(path_2019)\n",
    "df_2019 = dbf_2019.to_dataframe()\n",
    "\n",
    "# 2030\n",
    "dbf_2030 = Dbf5(path_2030)\n",
    "df_2030 = dbf_2030.to_dataframe()\n",
    "\n",
    "# 2040\n",
    "dbf_2040 = Dbf5(path_2040)\n",
    "df_2040 = dbf_2040.to_dataframe()\n",
    "\n",
    "# 2050\n",
    "dbf_2050 = Dbf5(path_2050)\n",
    "df_2050 = dbf_2050.to_dataframe()\n",
    "\n"
   ]
  },
  {
   "cell_type": "code",
   "execution_count": 18,
   "metadata": {},
   "outputs": [
    {
     "name": "stdout",
     "output_type": "stream",
     "text": [
      "   TAZID  CO_TAZID  DEVACRES    HH   JOB  AUTO_JB  AUTO_HH  TRAN_JB  TRAN_HH  \\\n",
      "0      1     30001    374.61   1.1   0.0    30077    20324        0        0   \n",
      "1      2     30002    638.02  15.2   3.6    32960    22318        0        0   \n",
      "2      3     30003    470.79   5.1   2.6    33930    22989        0        0   \n",
      "3      4     30004    779.84  21.0  24.1    33229    22504        0        0   \n",
      "4      5     30005    395.38  30.5  69.5    41843    28507        0        0   \n",
      "\n",
      "   COMP_AUTO  COMP_TRAN  AUTO_JB_WT  AUTO_HH_WT  TRAN_JB_WT  TRAN_HH_WT  \n",
      "0      30077          0       33085           0           0           0  \n",
      "1      31728          0      500993       80346           0           0  \n",
      "2      31525          0      173044       59772           0           0  \n",
      "3      29066          0      697807      542343           0           0  \n",
      "4      34409          0     1276226     1981242           0           0  \n",
      "\n",
      "(2881, 15)\n",
      "\n",
      "['TAZID', 'CO_TAZID', 'DEVACRES', 'HH', 'JOB', 'AUTO_JB', 'AUTO_HH', 'TRAN_JB', 'TRAN_HH', 'COMP_AUTO', 'COMP_TRAN', 'AUTO_JB_WT', 'AUTO_HH_WT', 'TRAN_JB_WT', 'TRAN_HH_WT']\n",
      "\n",
      "['TAZID', 'CO_TAZID', 'DEVACRES', 'HH', 'JOB', 'AUTO_JB', 'AUTO_HH', 'TRAN_JB', 'TRAN_HH', 'COMP_AUTO', 'COMP_TRAN', 'AUTO_JB_WT', 'AUTO_HH_WT', 'TRAN_JB_WT', 'TRAN_HH_WT']\n",
      "\n"
     ]
    }
   ],
   "source": [
    "#==========================================\n",
    "# Preview tables\n",
    "#==========================================\n",
    "\n",
    "# Show the first 5 rows of a table\n",
    "print(df_2019.head())\n",
    "print()\n",
    "\n",
    "# Show number of rows and columns\n",
    "print(df_2019.shape)\n",
    "print()\n",
    "\n",
    "# Show column names\n",
    "print(list(df_2019.columns))\n",
    "print()\n",
    "print(list(df_2030.columns))\n",
    "print()"
   ]
  },
  {
   "cell_type": "code",
   "execution_count": 19,
   "metadata": {},
   "outputs": [
    {
     "name": "stdout",
     "output_type": "stream",
     "text": [
      "ATO 2040 Column names (BEFORE):\n",
      "['CO_TAZID', 'HH', 'JOB', 'AUTO_JB', 'AUTO_HH', 'TRAN_JB', 'TRAN_HH', 'COMP_AUTO', 'COMP_TRAN']\n",
      "\n",
      "ATO 2040 Column names (AFTER):\n",
      "['CO_TAZID', 'HH_40', 'JOB_40', 'JOBAUTO_40', 'HHAUTO_40', 'JOBTRANSIT_40', 'HHTRANSIT_40', 'COMPAUTO_40', 'COMPTRANSIT_40']\n",
      "\n"
     ]
    }
   ],
   "source": [
    "#==========================================\n",
    "# Prepping and Formatting tables \n",
    "#==========================================\n",
    "\n",
    "# Create the base table\n",
    "base_table = df_2019[['TAZID', 'CO_TAZID', 'DEVACRES']].copy()\n",
    "\n",
    "# Desired columns to subset by \n",
    "columns = ['CO_TAZID', 'HH', 'JOB', 'AUTO_JB', 'AUTO_HH', 'TRAN_JB', 'TRAN_HH', \\\n",
    "           'COMP_AUTO', 'COMP_TRAN']\n",
    "\n",
    "# subset tables to desired columns\n",
    "df_2019 = df_2019[columns].copy()\n",
    "df_2030 = df_2030[columns].copy()\n",
    "df_2040 = df_2040[columns].copy()\n",
    "df_2050 = df_2050[columns].copy()\n",
    "\n",
    "# Show Column names before conversion\n",
    "print(\"ATO 2040 Column names (BEFORE):\")\n",
    "print(list(df_2040.columns))\n",
    "print()\n",
    "\n",
    "# Rename columns, concatenating year to the end\n",
    "df_2019.columns = ['CO_TAZID', 'HH_19', 'JOB_19', 'JOBAUTO_19', 'HHAUTO_19', 'JOBTRANSIT_19', 'HHTRANSIT_19', \\\n",
    "           'COMPAUTO_19', 'COMPTRANSIT_19']\n",
    "\n",
    "df_2030.columns = ['CO_TAZID', 'HH_30', 'JOB_30', 'JOBAUTO_30', 'HHAUTO_30', 'JOBTRANSIT_30', 'HHTRANSIT_30', \\\n",
    "           'COMPAUTO_30', 'COMPTRANSIT_30']\n",
    "\n",
    "df_2040.columns = ['CO_TAZID', 'HH_40', 'JOB_40', 'JOBAUTO_40', 'HHAUTO_40', 'JOBTRANSIT_40', 'HHTRANSIT_40', \\\n",
    "           'COMPAUTO_40', 'COMPTRANSIT_40']\n",
    "\n",
    "df_2050.columns = ['CO_TAZID', 'HH_50', 'JOB_50', 'JOBAUTO_50', 'HHAUTO_50', 'JOBTRANSIT_50', 'HHTRANSIT_50', \\\n",
    "           'COMPAUTO_50', 'COMPTRANSIT_50']\n",
    "\n",
    "# Show Column names after conversion\n",
    "print(\"ATO 2040 Column names (AFTER):\")\n",
    "print(list(df_2040.columns))\n",
    "print()"
   ]
  },
  {
   "cell_type": "code",
   "execution_count": null,
   "metadata": {},
   "outputs": [],
   "source": [
    "#==========================================\n",
    "# Join the tables \n",
    "#==========================================\n",
    "\n",
    "# Join tables to the base table using CO_TAZID field\n",
    "base_table = base_table.merge(df_2019, left_on = 'CO_TAZID', right_on = 'CO_TAZID' , how = 'inner')\n",
    "base_table = base_table.merge(df_2030, left_on = 'CO_TAZID', right_on = 'CO_TAZID' , how = 'inner')\n",
    "base_table = base_table.merge(df_2040, left_on = 'CO_TAZID', right_on = 'CO_TAZID' , how = 'inner')\n",
    "base_table = base_table.merge(df_2050, left_on = 'CO_TAZID', right_on = 'CO_TAZID' , how = 'inner')\n",
    "\n",
    "\n"
   ]
  }
 ],
 "metadata": {
  "kernelspec": {
   "display_name": "py3",
   "language": "python",
   "name": "py3"
  },
  "language_info": {
   "codemirror_mode": {
    "name": "ipython",
    "version": 3
   },
   "file_extension": ".py",
   "mimetype": "text/x-python",
   "name": "python",
   "nbconvert_exporter": "python",
   "pygments_lexer": "ipython3",
   "version": "3.6.9"
  }
 },
 "nbformat": 4,
 "nbformat_minor": 2
}
