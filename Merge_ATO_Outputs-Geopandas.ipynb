{
 "cells": [
  {
   "cell_type": "markdown",
   "metadata": {},
   "source": [
    "#### Import required libraries"
   ]
  },
  {
   "cell_type": "code",
   "execution_count": null,
   "metadata": {},
   "outputs": [],
   "source": [
    "import geopandas as gpd\n",
    "import os"
   ]
  },
  {
   "cell_type": "markdown",
   "metadata": {},
   "source": [
    "#### Build paths to .dbf tables"
   ]
  },
  {
   "cell_type": "code",
   "execution_count": null,
   "metadata": {},
   "outputs": [],
   "source": [
    "# Store highest common directory path\n",
    "scenarios = os.path.join(os.getcwd(), r'TDM\\0 - ModelDev\\Official Release\\v8.3.1\\WF TDM v8.3.1 - 2020-05-08\\Scenarios')\n",
    "\n",
    "# Store path to 2019\n",
    "path_2019 = os.path.join(scenarios, r'BY_2019\\7_PostProcessing\\Access_to_Opportunity_2019.dbf')\n",
    "print(path_2019 + '\\n')\n",
    "\n",
    "# Store path to 2030\n",
    "path_2030 = os.path.join(scenarios, r'Need_2030\\7_PostProcessing\\Access_to_Opportunity_2030.dbf')\n",
    "print(path_2030 + '\\n')\n",
    "\n",
    "# Store path to 2040\n",
    "path_2040 = os.path.join(scenarios, r'Need_2040\\7_PostProcessing\\Access_to_Opportunity_2040.dbf')\n",
    "print(path_2040 + '\\n')\n",
    "\n",
    "# Store path to 2050\n",
    "path_2050 = os.path.join(scenarios, r'Need_2050\\7_PostProcessing\\Access_to_Opportunity_2050.dbf')\n",
    "print(path_2050 + '\\n')"
   ]
  },
  {
   "cell_type": "code",
   "execution_count": null,
   "metadata": {},
   "outputs": [],
   "source": []
  },
  {
   "cell_type": "code",
   "execution_count": null,
   "metadata": {},
   "outputs": [],
   "source": []
  },
  {
   "cell_type": "code",
   "execution_count": null,
   "metadata": {},
   "outputs": [],
   "source": []
  }
 ],
 "metadata": {
  "kernelspec": {
   "display_name": "py3",
   "language": "python",
   "name": "py3"
  },
  "language_info": {
   "codemirror_mode": {
    "name": "ipython",
    "version": 3
   },
   "file_extension": ".py",
   "mimetype": "text/x-python",
   "name": "python",
   "nbconvert_exporter": "python",
   "pygments_lexer": "ipython3",
   "version": "3.6.9"
  }
 },
 "nbformat": 4,
 "nbformat_minor": 2
}
