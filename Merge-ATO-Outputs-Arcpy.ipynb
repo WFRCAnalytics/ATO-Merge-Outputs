{
 "cells": [
  {
   "cell_type": "markdown",
   "metadata": {},
   "source": [
    "## Merge-ATO-Outputs.py\n",
    "\n",
    "This script demonstrates how to merge Access to Opportunities (ATO) tables from multiple years into one table. It also formats the columns to match the schema of the table at:\n",
    "\n",
    "https://data.wfrc.org/datasets/access-to-opportunities-work-related-taz-based?geometry=-117.122%2C40.025%2C-106.669%2C41.481"
   ]
  },
  {
   "cell_type": "markdown",
   "metadata": {},
   "source": [
    "### Import required libraries"
   ]
  },
  {
   "cell_type": "code",
   "execution_count": 1,
   "metadata": {},
   "outputs": [],
   "source": [
    "from arcpy import TableToTable_conversion\n",
    "from arcpy import env\n",
    "import pandas as pd\n",
    "import matplotlib.pyplot as plt\n",
    "import os"
   ]
  },
  {
   "cell_type": "markdown",
   "metadata": {},
   "source": [
    "### Build pathways to dbf files using os module"
   ]
  },
  {
   "cell_type": "code",
   "execution_count": 2,
   "metadata": {},
   "outputs": [
    {
     "name": "stdout",
     "output_type": "stream",
     "text": [
      "E:\\Projects\\Merge-ATO-Outputs\n"
     ]
    }
   ],
   "source": [
    "# Get the current working directory using os module\n",
    "working_directory = os.getcwd()\n",
    "print(working_directory)"
   ]
  },
  {
   "cell_type": "code",
   "execution_count": 3,
   "metadata": {},
   "outputs": [],
   "source": [
    "# Store highest common directory path\n",
    "scenarios = os.path.join(working_directory, r'TDM\\0 - ModelDev\\Official Release\\v8.3.1\\WF TDM v8.3.1 - 2020-05-08\\Scenarios')\n",
    "\n",
    "# Store path to each ATO dbf file\n",
    "dbf_2019 = os.path.join(scenarios, r'BY_2019\\7_PostProcessing\\Access_to_Opportunity_2019.dbf')\n",
    "dbf_2030 = os.path.join(scenarios, r'Need_2030\\7_PostProcessing\\Access_to_Opportunity_2030.dbf')\n",
    "dbf_2040 = os.path.join(scenarios, r'Need_2040\\7_PostProcessing\\Access_to_Opportunity_2040.dbf')\n",
    "dbf_2050 = os.path.join(scenarios, r'Need_2050\\7_PostProcessing\\Access_to_Opportunity_2050.dbf')"
   ]
  },
  {
   "cell_type": "markdown",
   "metadata": {},
   "source": [
    "### Ensure path to dbf was created properly"
   ]
  },
  {
   "cell_type": "code",
   "execution_count": 4,
   "metadata": {},
   "outputs": [
    {
     "data": {
      "text/plain": [
       "'E:\\\\Projects\\\\Merge-ATO-Outputs\\\\TDM\\\\0 - ModelDev\\\\Official Release\\\\v8.3.1\\\\WF TDM v8.3.1 - 2020-05-08\\\\Scenarios\\\\BY_2019\\\\7_PostProcessing\\\\Access_to_Opportunity_2019.dbf'"
      ]
     },
     "execution_count": 4,
     "metadata": {},
     "output_type": "execute_result"
    }
   ],
   "source": [
    "dbf_2019"
   ]
  },
  {
   "cell_type": "markdown",
   "metadata": {},
   "source": [
    "#### Use Arcpy to convert dbfs to csvs"
   ]
  },
  {
   "cell_type": "code",
   "execution_count": 5,
   "metadata": {},
   "outputs": [],
   "source": [
    "# Create function that converts dbfs to csvs using arcpy\n",
    "def dbfToCSV(dbf, csv):\n",
    "    TableToTable_conversion(dbf, os.path.dirname(csv), os.path.basename(csv))\n",
    "\n",
    "# Allow arcpy to overwrite output files\n",
    "env.overwriteOutput = True\n",
    "\n",
    "# store location of data folder\n",
    "results_folder = os.path.join(os.getcwd(), 'Results')\n",
    "\n",
    "# Store names for output csvs\n",
    "csv_2019 = os.path.join(results_folder, 'Access_to_Opportunity_2019.csv')\n",
    "csv_2030 = os.path.join(results_folder, 'Access_to_Opportunity_2030.csv')\n",
    "csv_2040 = os.path.join(results_folder, 'Access_to_Opportunity_2040.csv')\n",
    "csv_2050 = os.path.join(results_folder, 'Access_to_Opportunity_2050.csv')\n",
    "\n",
    "# convert dbfs to csvs\n",
    "dbfToCSV(dbf_2019, csv_2019)\n",
    "dbfToCSV(dbf_2030, csv_2030)\n",
    "dbfToCSV(dbf_2040, csv_2040)\n",
    "dbfToCSV(dbf_2050, csv_2050)"
   ]
  },
  {
   "cell_type": "markdown",
   "metadata": {},
   "source": [
    "### Read tables into Pandas"
   ]
  },
  {
   "cell_type": "code",
   "execution_count": 6,
   "metadata": {},
   "outputs": [],
   "source": [
    "# Read 2019 dbf5 as pandas dataframe object\n",
    "df_2019 = pd.read_csv(csv_2019)\n",
    "df_2030 = pd.read_csv(csv_2030)\n",
    "df_2040 = pd.read_csv(csv_2040)\n",
    "df_2050 = pd.read_csv(csv_2050)\n",
    "\n",
    "# Drop unneeded OID column created by arcpy\n",
    "df_2019 = df_2019.drop(['OID_'], axis=1)\n",
    "df_2030 = df_2030.drop(['OID_'], axis=1)\n",
    "df_2040 = df_2040.drop(['OID_'], axis=1)\n",
    "df_2050 = df_2050.drop(['OID_'], axis=1)"
   ]
  },
  {
   "cell_type": "markdown",
   "metadata": {},
   "source": [
    "### Preview tables (Optional)"
   ]
  },
  {
   "cell_type": "code",
   "execution_count": 7,
   "metadata": {},
   "outputs": [
    {
     "data": {
      "text/html": [
       "<div>\n",
       "<style scoped>\n",
       "    .dataframe tbody tr th:only-of-type {\n",
       "        vertical-align: middle;\n",
       "    }\n",
       "\n",
       "    .dataframe tbody tr th {\n",
       "        vertical-align: top;\n",
       "    }\n",
       "\n",
       "    .dataframe thead th {\n",
       "        text-align: right;\n",
       "    }\n",
       "</style>\n",
       "<table border=\"1\" class=\"dataframe\">\n",
       "  <thead>\n",
       "    <tr style=\"text-align: right;\">\n",
       "      <th></th>\n",
       "      <th>TAZID</th>\n",
       "      <th>CO_TAZID</th>\n",
       "      <th>DEVACRES</th>\n",
       "      <th>HH</th>\n",
       "      <th>JOB</th>\n",
       "      <th>AUTO_JB</th>\n",
       "      <th>AUTO_HH</th>\n",
       "      <th>TRAN_JB</th>\n",
       "      <th>TRAN_HH</th>\n",
       "      <th>COMP_AUTO</th>\n",
       "      <th>COMP_TRAN</th>\n",
       "      <th>AUTO_JB_WT</th>\n",
       "      <th>AUTO_HH_WT</th>\n",
       "      <th>TRAN_JB_WT</th>\n",
       "      <th>TRAN_HH_WT</th>\n",
       "    </tr>\n",
       "  </thead>\n",
       "  <tbody>\n",
       "    <tr>\n",
       "      <th>0</th>\n",
       "      <td>1</td>\n",
       "      <td>30001</td>\n",
       "      <td>374.61</td>\n",
       "      <td>1.1</td>\n",
       "      <td>0.0</td>\n",
       "      <td>30077</td>\n",
       "      <td>20324</td>\n",
       "      <td>0</td>\n",
       "      <td>0</td>\n",
       "      <td>30077</td>\n",
       "      <td>0</td>\n",
       "      <td>33085</td>\n",
       "      <td>0</td>\n",
       "      <td>0</td>\n",
       "      <td>0</td>\n",
       "    </tr>\n",
       "    <tr>\n",
       "      <th>1</th>\n",
       "      <td>2</td>\n",
       "      <td>30002</td>\n",
       "      <td>638.02</td>\n",
       "      <td>15.2</td>\n",
       "      <td>3.6</td>\n",
       "      <td>32960</td>\n",
       "      <td>22318</td>\n",
       "      <td>0</td>\n",
       "      <td>0</td>\n",
       "      <td>31728</td>\n",
       "      <td>0</td>\n",
       "      <td>500993</td>\n",
       "      <td>80346</td>\n",
       "      <td>0</td>\n",
       "      <td>0</td>\n",
       "    </tr>\n",
       "    <tr>\n",
       "      <th>2</th>\n",
       "      <td>3</td>\n",
       "      <td>30003</td>\n",
       "      <td>470.79</td>\n",
       "      <td>5.1</td>\n",
       "      <td>2.6</td>\n",
       "      <td>33930</td>\n",
       "      <td>22989</td>\n",
       "      <td>0</td>\n",
       "      <td>0</td>\n",
       "      <td>31525</td>\n",
       "      <td>0</td>\n",
       "      <td>173044</td>\n",
       "      <td>59772</td>\n",
       "      <td>0</td>\n",
       "      <td>0</td>\n",
       "    </tr>\n",
       "    <tr>\n",
       "      <th>3</th>\n",
       "      <td>4</td>\n",
       "      <td>30004</td>\n",
       "      <td>779.84</td>\n",
       "      <td>21.0</td>\n",
       "      <td>24.1</td>\n",
       "      <td>33229</td>\n",
       "      <td>22504</td>\n",
       "      <td>0</td>\n",
       "      <td>0</td>\n",
       "      <td>29066</td>\n",
       "      <td>0</td>\n",
       "      <td>697807</td>\n",
       "      <td>542343</td>\n",
       "      <td>0</td>\n",
       "      <td>0</td>\n",
       "    </tr>\n",
       "    <tr>\n",
       "      <th>4</th>\n",
       "      <td>5</td>\n",
       "      <td>30005</td>\n",
       "      <td>395.38</td>\n",
       "      <td>30.5</td>\n",
       "      <td>69.5</td>\n",
       "      <td>41843</td>\n",
       "      <td>28507</td>\n",
       "      <td>0</td>\n",
       "      <td>0</td>\n",
       "      <td>34409</td>\n",
       "      <td>0</td>\n",
       "      <td>1276226</td>\n",
       "      <td>1981242</td>\n",
       "      <td>0</td>\n",
       "      <td>0</td>\n",
       "    </tr>\n",
       "  </tbody>\n",
       "</table>\n",
       "</div>"
      ],
      "text/plain": [
       "   TAZID  CO_TAZID  DEVACRES    HH   JOB  AUTO_JB  AUTO_HH  TRAN_JB  TRAN_HH  \\\n",
       "0      1     30001    374.61   1.1   0.0    30077    20324        0        0   \n",
       "1      2     30002    638.02  15.2   3.6    32960    22318        0        0   \n",
       "2      3     30003    470.79   5.1   2.6    33930    22989        0        0   \n",
       "3      4     30004    779.84  21.0  24.1    33229    22504        0        0   \n",
       "4      5     30005    395.38  30.5  69.5    41843    28507        0        0   \n",
       "\n",
       "   COMP_AUTO  COMP_TRAN  AUTO_JB_WT  AUTO_HH_WT  TRAN_JB_WT  TRAN_HH_WT  \n",
       "0      30077          0       33085           0           0           0  \n",
       "1      31728          0      500993       80346           0           0  \n",
       "2      31525          0      173044       59772           0           0  \n",
       "3      29066          0      697807      542343           0           0  \n",
       "4      34409          0     1276226     1981242           0           0  "
      ]
     },
     "execution_count": 7,
     "metadata": {},
     "output_type": "execute_result"
    }
   ],
   "source": [
    "# Show the first 5 rows of a table\n",
    "df_2019.head()"
   ]
  },
  {
   "cell_type": "code",
   "execution_count": 8,
   "metadata": {},
   "outputs": [
    {
     "name": "stdout",
     "output_type": "stream",
     "text": [
      "There are 2881 rows and 15 columns\n"
     ]
    }
   ],
   "source": [
    "# Show number of rows and columns\n",
    "nRows = df_2019.shape[0]\n",
    "nColumns = df_2019.shape[1]\n",
    "print(\"There are {} rows and {} columns\".format(nRows, nColumns))"
   ]
  },
  {
   "cell_type": "code",
   "execution_count": 9,
   "metadata": {},
   "outputs": [
    {
     "name": "stdout",
     "output_type": "stream",
     "text": [
      "TAZID\n",
      "CO_TAZID\n",
      "DEVACRES\n",
      "HH\n",
      "JOB\n",
      "AUTO_JB\n",
      "AUTO_HH\n",
      "TRAN_JB\n",
      "TRAN_HH\n",
      "COMP_AUTO\n",
      "COMP_TRAN\n",
      "AUTO_JB_WT\n",
      "AUTO_HH_WT\n",
      "TRAN_JB_WT\n",
      "TRAN_HH_WT\n"
     ]
    }
   ],
   "source": [
    "# Show column names\n",
    "for column in list(df_2019.columns):\n",
    "    print(column)"
   ]
  },
  {
   "cell_type": "markdown",
   "metadata": {},
   "source": [
    "#### Prepping and Formatting tables "
   ]
  },
  {
   "cell_type": "code",
   "execution_count": 10,
   "metadata": {},
   "outputs": [
    {
     "name": "stdout",
     "output_type": "stream",
     "text": [
      "ATO 2040 Column names (BEFORE):\n",
      "['CO_TAZID', 'HH', 'JOB', 'AUTO_JB', 'AUTO_HH', 'TRAN_JB', 'TRAN_HH', 'COMP_AUTO', 'COMP_TRAN']\n"
     ]
    }
   ],
   "source": [
    "# Create the base table, the .copy() creates a new table instead of referencing the old one in memory\n",
    "base_table = df_2019[['TAZID', 'CO_TAZID', 'DEVACRES']].copy()\n",
    "\n",
    "# Desired columns to subset by \n",
    "columns = ['CO_TAZID', 'HH', 'JOB', 'AUTO_JB', 'AUTO_HH', 'TRAN_JB', 'TRAN_HH', \\\n",
    "           'COMP_AUTO', 'COMP_TRAN']\n",
    "\n",
    "# subset tables to desired columns\n",
    "df_2019_subset = df_2019[columns].copy()\n",
    "df_2030_subset = df_2030[columns].copy()\n",
    "df_2040_subset = df_2040[columns].copy()\n",
    "df_2050_subset = df_2050[columns].copy()\n",
    "\n",
    "# Show Column names before conversion\n",
    "print(\"ATO 2040 Column names (BEFORE):\")\n",
    "print(list(df_2040_subset.columns))\n",
    "\n",
    "# Rename columns, concatenating year to the end\n",
    "df_2019_subset.columns = ['CO_TAZID', 'HH_19', 'JOB_19', 'JOBAUTO_19', 'HHAUTO_19', 'JOBTRANSIT_19', 'HHTRANSIT_19', \\\n",
    "           'COMPAUTO_19', 'COMPTRANSIT_19']\n",
    "\n",
    "df_2030_subset.columns = ['CO_TAZID', 'HH_30', 'JOB_30', 'JOBAUTO_30', 'HHAUTO_30', 'JOBTRANSIT_30', 'HHTRANSIT_30', \\\n",
    "           'COMPAUTO_30', 'COMPTRANSIT_30']\n",
    "\n",
    "df_2040_subset.columns = ['CO_TAZID', 'HH_40', 'JOB_40', 'JOBAUTO_40', 'HHAUTO_40', 'JOBTRANSIT_40', 'HHTRANSIT_40', \\\n",
    "           'COMPAUTO_40', 'COMPTRANSIT_40']\n",
    "\n",
    "df_2050_subset.columns = ['CO_TAZID', 'HH_50', 'JOB_50', 'JOBAUTO_50', 'HHAUTO_50', 'JOBTRANSIT_50', 'HHTRANSIT_50', \\\n",
    "           'COMPAUTO_50', 'COMPTRANSIT_50']"
   ]
  },
  {
   "cell_type": "code",
   "execution_count": 11,
   "metadata": {},
   "outputs": [
    {
     "name": "stdout",
     "output_type": "stream",
     "text": [
      "ATO 2040 Column names (AFTER):\n",
      "['CO_TAZID', 'HH_40', 'JOB_40', 'JOBAUTO_40', 'HHAUTO_40', 'JOBTRANSIT_40', 'HHTRANSIT_40', 'COMPAUTO_40', 'COMPTRANSIT_40']\n"
     ]
    }
   ],
   "source": [
    "# Show Column names after renaming\n",
    "print(\"ATO 2040 Column names (AFTER):\")\n",
    "print(list(df_2040_subset.columns))"
   ]
  },
  {
   "cell_type": "markdown",
   "metadata": {},
   "source": [
    "#### Join the tables (Method #1)"
   ]
  },
  {
   "cell_type": "code",
   "execution_count": 12,
   "metadata": {},
   "outputs": [],
   "source": [
    "# Join tables to the base table using CO_TAZID field\n",
    "ato_table = base_table\n",
    "\n",
    "ato_table = ato_table.merge(df_2019_subset, left_on = 'CO_TAZID', right_on = 'CO_TAZID' , how = 'inner')\n",
    "ato_table = ato_table.merge(df_2030_subset, left_on = 'CO_TAZID', right_on = 'CO_TAZID' , how = 'inner')\n",
    "ato_table = ato_table.merge(df_2040_subset, left_on = 'CO_TAZID', right_on = 'CO_TAZID' , how = 'inner')\n",
    "ato_table = ato_table.merge(df_2050_subset, left_on = 'CO_TAZID', right_on = 'CO_TAZID' , how = 'inner')"
   ]
  },
  {
   "cell_type": "markdown",
   "metadata": {},
   "source": [
    "#### Join the tables using a For-Loop (Method #2)"
   ]
  },
  {
   "cell_type": "code",
   "execution_count": 13,
   "metadata": {},
   "outputs": [],
   "source": [
    "# store ATO by year into list\n",
    "tables = [df_2019_subset, df_2030_subset, df_2040_subset, df_2050_subset]\n",
    "\n",
    "# Use for loop to join each year table to the base table using CO_TAZID field\n",
    "ato_table = base_table\n",
    "\n",
    "for table in tables:\n",
    "    ato_table = ato_table.merge(table, left_on = 'CO_TAZID', right_on = 'CO_TAZID' , how = 'inner')"
   ]
  },
  {
   "cell_type": "code",
   "execution_count": 14,
   "metadata": {},
   "outputs": [
    {
     "name": "stdout",
     "output_type": "stream",
     "text": [
      "There are 2881 rows and 35 columns\n",
      "(2881, 35)\n"
     ]
    }
   ],
   "source": [
    "# Show number of rows and columns\n",
    "nRows = ato_table.shape[0]\n",
    "nColumns = ato_table.shape[1]\n",
    "print(\"There are {} rows and {} columns\".format(nRows, nColumns))\n",
    "print(ato_table.shape)"
   ]
  },
  {
   "cell_type": "code",
   "execution_count": 15,
   "metadata": {},
   "outputs": [
    {
     "data": {
      "text/html": [
       "<div>\n",
       "<style scoped>\n",
       "    .dataframe tbody tr th:only-of-type {\n",
       "        vertical-align: middle;\n",
       "    }\n",
       "\n",
       "    .dataframe tbody tr th {\n",
       "        vertical-align: top;\n",
       "    }\n",
       "\n",
       "    .dataframe thead th {\n",
       "        text-align: right;\n",
       "    }\n",
       "</style>\n",
       "<table border=\"1\" class=\"dataframe\">\n",
       "  <thead>\n",
       "    <tr style=\"text-align: right;\">\n",
       "      <th></th>\n",
       "      <th>TAZID</th>\n",
       "      <th>CO_TAZID</th>\n",
       "      <th>DEVACRES</th>\n",
       "      <th>HH_19</th>\n",
       "      <th>JOB_19</th>\n",
       "      <th>JOBAUTO_19</th>\n",
       "      <th>HHAUTO_19</th>\n",
       "      <th>JOBTRANSIT_19</th>\n",
       "      <th>HHTRANSIT_19</th>\n",
       "      <th>COMPAUTO_19</th>\n",
       "      <th>...</th>\n",
       "      <th>COMPAUTO_40</th>\n",
       "      <th>COMPTRANSIT_40</th>\n",
       "      <th>HH_50</th>\n",
       "      <th>JOB_50</th>\n",
       "      <th>JOBAUTO_50</th>\n",
       "      <th>HHAUTO_50</th>\n",
       "      <th>JOBTRANSIT_50</th>\n",
       "      <th>HHTRANSIT_50</th>\n",
       "      <th>COMPAUTO_50</th>\n",
       "      <th>COMPTRANSIT_50</th>\n",
       "    </tr>\n",
       "  </thead>\n",
       "  <tbody>\n",
       "    <tr>\n",
       "      <th>0</th>\n",
       "      <td>1</td>\n",
       "      <td>30001</td>\n",
       "      <td>374.61</td>\n",
       "      <td>1.1</td>\n",
       "      <td>0.0</td>\n",
       "      <td>30077</td>\n",
       "      <td>20324</td>\n",
       "      <td>0</td>\n",
       "      <td>0</td>\n",
       "      <td>30077</td>\n",
       "      <td>...</td>\n",
       "      <td>36928</td>\n",
       "      <td>0</td>\n",
       "      <td>2.8</td>\n",
       "      <td>0.0</td>\n",
       "      <td>36346</td>\n",
       "      <td>28902</td>\n",
       "      <td>0</td>\n",
       "      <td>0</td>\n",
       "      <td>36346</td>\n",
       "      <td>0</td>\n",
       "    </tr>\n",
       "    <tr>\n",
       "      <th>1</th>\n",
       "      <td>2</td>\n",
       "      <td>30002</td>\n",
       "      <td>638.02</td>\n",
       "      <td>15.2</td>\n",
       "      <td>3.6</td>\n",
       "      <td>32960</td>\n",
       "      <td>22318</td>\n",
       "      <td>0</td>\n",
       "      <td>0</td>\n",
       "      <td>31728</td>\n",
       "      <td>...</td>\n",
       "      <td>39370</td>\n",
       "      <td>0</td>\n",
       "      <td>16.7</td>\n",
       "      <td>3.6</td>\n",
       "      <td>39895</td>\n",
       "      <td>31760</td>\n",
       "      <td>0</td>\n",
       "      <td>0</td>\n",
       "      <td>38950</td>\n",
       "      <td>0</td>\n",
       "    </tr>\n",
       "    <tr>\n",
       "      <th>2</th>\n",
       "      <td>3</td>\n",
       "      <td>30003</td>\n",
       "      <td>470.79</td>\n",
       "      <td>5.1</td>\n",
       "      <td>2.6</td>\n",
       "      <td>33930</td>\n",
       "      <td>22989</td>\n",
       "      <td>0</td>\n",
       "      <td>0</td>\n",
       "      <td>31525</td>\n",
       "      <td>...</td>\n",
       "      <td>39550</td>\n",
       "      <td>0</td>\n",
       "      <td>6.6</td>\n",
       "      <td>2.6</td>\n",
       "      <td>41088</td>\n",
       "      <td>32720</td>\n",
       "      <td>0</td>\n",
       "      <td>0</td>\n",
       "      <td>39468</td>\n",
       "      <td>0</td>\n",
       "    </tr>\n",
       "    <tr>\n",
       "      <th>3</th>\n",
       "      <td>4</td>\n",
       "      <td>30004</td>\n",
       "      <td>779.84</td>\n",
       "      <td>21.0</td>\n",
       "      <td>24.1</td>\n",
       "      <td>33229</td>\n",
       "      <td>22504</td>\n",
       "      <td>0</td>\n",
       "      <td>0</td>\n",
       "      <td>29066</td>\n",
       "      <td>...</td>\n",
       "      <td>36594</td>\n",
       "      <td>0</td>\n",
       "      <td>21.0</td>\n",
       "      <td>34.4</td>\n",
       "      <td>40229</td>\n",
       "      <td>32026</td>\n",
       "      <td>0</td>\n",
       "      <td>0</td>\n",
       "      <td>36130</td>\n",
       "      <td>0</td>\n",
       "    </tr>\n",
       "    <tr>\n",
       "      <th>4</th>\n",
       "      <td>5</td>\n",
       "      <td>30005</td>\n",
       "      <td>395.38</td>\n",
       "      <td>30.5</td>\n",
       "      <td>69.5</td>\n",
       "      <td>41843</td>\n",
       "      <td>28507</td>\n",
       "      <td>0</td>\n",
       "      <td>0</td>\n",
       "      <td>34409</td>\n",
       "      <td>...</td>\n",
       "      <td>44617</td>\n",
       "      <td>0</td>\n",
       "      <td>34.8</td>\n",
       "      <td>73.1</td>\n",
       "      <td>50882</td>\n",
       "      <td>40623</td>\n",
       "      <td>0</td>\n",
       "      <td>0</td>\n",
       "      <td>45122</td>\n",
       "      <td>0</td>\n",
       "    </tr>\n",
       "  </tbody>\n",
       "</table>\n",
       "<p>5 rows × 35 columns</p>\n",
       "</div>"
      ],
      "text/plain": [
       "   TAZID  CO_TAZID  DEVACRES  HH_19  JOB_19  JOBAUTO_19  HHAUTO_19  \\\n",
       "0      1     30001    374.61    1.1     0.0       30077      20324   \n",
       "1      2     30002    638.02   15.2     3.6       32960      22318   \n",
       "2      3     30003    470.79    5.1     2.6       33930      22989   \n",
       "3      4     30004    779.84   21.0    24.1       33229      22504   \n",
       "4      5     30005    395.38   30.5    69.5       41843      28507   \n",
       "\n",
       "   JOBTRANSIT_19  HHTRANSIT_19  COMPAUTO_19  ...  COMPAUTO_40  COMPTRANSIT_40  \\\n",
       "0              0             0        30077  ...        36928               0   \n",
       "1              0             0        31728  ...        39370               0   \n",
       "2              0             0        31525  ...        39550               0   \n",
       "3              0             0        29066  ...        36594               0   \n",
       "4              0             0        34409  ...        44617               0   \n",
       "\n",
       "   HH_50  JOB_50  JOBAUTO_50  HHAUTO_50  JOBTRANSIT_50  HHTRANSIT_50  \\\n",
       "0    2.8     0.0       36346      28902              0             0   \n",
       "1   16.7     3.6       39895      31760              0             0   \n",
       "2    6.6     2.6       41088      32720              0             0   \n",
       "3   21.0    34.4       40229      32026              0             0   \n",
       "4   34.8    73.1       50882      40623              0             0   \n",
       "\n",
       "   COMPAUTO_50  COMPTRANSIT_50  \n",
       "0        36346               0  \n",
       "1        38950               0  \n",
       "2        39468               0  \n",
       "3        36130               0  \n",
       "4        45122               0  \n",
       "\n",
       "[5 rows x 35 columns]"
      ]
     },
     "execution_count": 15,
     "metadata": {},
     "output_type": "execute_result"
    }
   ],
   "source": [
    "# Show first 5 rows of merged table\n",
    "ato_table.head()"
   ]
  },
  {
   "cell_type": "markdown",
   "metadata": {},
   "source": [
    "#### Exporting the joined table"
   ]
  },
  {
   "cell_type": "code",
   "execution_count": 16,
   "metadata": {},
   "outputs": [],
   "source": [
    "# Create name for output csv\n",
    "out_table = os.path.join(results_folder, 'ATO.csv')\n",
    "\n",
    "# export data frame to csv\n",
    "ato_table.to_csv(out_table, index=False)"
   ]
  },
  {
   "cell_type": "markdown",
   "metadata": {},
   "source": [
    "#### Join and convert to feature dataset"
   ]
  },
  {
   "cell_type": "code",
   "execution_count": 17,
   "metadata": {},
   "outputs": [
    {
     "data": {
      "text/html": [
       "<h2>Output</h2>.\\Results\\TAZ_Boundary.gdb\\ATO<h2>Messages</h2>Start Time: Tuesday, September 1, 2020 3:21:52 PM<br/>Succeeded at Tuesday, September 1, 2020 3:21:53 PM (Elapsed Time: 0.79 seconds)<br/><style>.rendered_html td, .rendered_html th {text-align: left;}.rendered_html tbody {border: 1px solid black;}</style>"
      ],
      "text/plain": [
       "<Result '.\\\\Results\\\\TAZ_Boundary.gdb\\\\ATO'>"
      ]
     },
     "execution_count": 17,
     "metadata": {},
     "output_type": "execute_result"
    }
   ],
   "source": [
    "# import required functions, faster than importing all of arcpy\n",
    "from arcpy import FeatureClassToFeatureClass_conversion\n",
    "from arcpy import AddJoin_management\n",
    "from arcpy import MakeTableView_management\n",
    "from arcpy import MakeFeatureLayer_management\n",
    "from arcpy import CreateFileGDB_management\n",
    "from arcpy import env\n",
    "env.OverwriteOutput = True\n",
    "\n",
    "# Store path to TAZ boundary\n",
    "taz_boundary = r'.\\Data\\TAZ_Boundary.gdb\\TAZ_WFRC_UTM12'\n",
    "\n",
    "# create temp datasets\n",
    "taz_layer = MakeFeatureLayer_management(taz_boundary,\"taz\")\n",
    "ato_layer = MakeTableView_management(out_table, \"ato\")\n",
    "\n",
    "# join the layer and tableview\n",
    "taz_ato = AddJoin_management(taz_layer, 'CO_TAZID', ato_layer, 'CO_TAZID')\n",
    "\n",
    "# Create file gdb for output\n",
    "out_gdb = CreateFileGDB_management(r'.\\Results', 'TAZ_Boundary.gdb')\n",
    "\n",
    "# Copy joined tables in fgdb\n",
    "FeatureClassToFeatureClass_conversion(taz_ato, out_gdb, 'ATO')"
   ]
  },
  {
   "cell_type": "markdown",
   "metadata": {},
   "source": [
    "#### Join and convert to shapefile"
   ]
  },
  {
   "cell_type": "code",
   "execution_count": 18,
   "metadata": {},
   "outputs": [
    {
     "data": {
      "text/html": [
       "<h2>Output</h2>E:\\Projects\\Merge-ATO-Outputs\\Results\\ATO.shp<h2>Messages</h2>Start Time: Tuesday, September 1, 2020 3:21:53 PM<br/>Succeeded at Tuesday, September 1, 2020 3:21:54 PM (Elapsed Time: 0.97 seconds)<br/><style>.rendered_html td, .rendered_html th {text-align: left;}.rendered_html tbody {border: 1px solid black;}</style>"
      ],
      "text/plain": [
       "<Result 'E:\\\\Projects\\\\Merge-ATO-Outputs\\\\Results\\\\ATO.shp'>"
      ]
     },
     "execution_count": 18,
     "metadata": {},
     "output_type": "execute_result"
    }
   ],
   "source": [
    "# Store path to TAZ boundary\n",
    "taz_boundary = os.path.join(os.getcwd(), r'Data\\TAZ_WFRC_UTM12.shp')\n",
    "\n",
    "# create temp datasets\n",
    "taz_layer = MakeFeatureLayer_management(taz_boundary,\"taz\")\n",
    "ato_layer = MakeTableView_management(out_table, \"ato\")\n",
    "\n",
    "# join the layer and tableview\n",
    "taz_ato = AddJoin_management(taz_layer, 'CO_TAZID', ato_layer, 'CO_TAZID')\n",
    "\n",
    "# Copy joined tables in fgdb\n",
    "FeatureClassToFeatureClass_conversion(taz_ato, results_folder, 'ATO.shp')"
   ]
  },
  {
   "cell_type": "markdown",
   "metadata": {},
   "source": [
    "#### Calculate Standard Deviation for each Column"
   ]
  },
  {
   "cell_type": "code",
   "execution_count": 19,
   "metadata": {},
   "outputs": [
    {
     "data": {
      "text/plain": [
       "TAZID                831.817388\n",
       "CO_TAZID          142548.810459\n",
       "DEVACRES             575.136729\n",
       "HH_19                315.902154\n",
       "JOB_19              1236.816320\n",
       "JOBAUTO_19        121906.296197\n",
       "HHAUTO_19          55477.835329\n",
       "JOBTRANSIT_19      19713.549672\n",
       "HHTRANSIT_19        6109.762086\n",
       "COMPAUTO_19        96619.516199\n",
       "COMPTRANSIT_19     12079.998654\n",
       "HH_30                357.890779\n",
       "JOB_30              1315.153462\n",
       "JOBAUTO_30        130115.819312\n",
       "HHAUTO_30          61686.001350\n",
       "JOBTRANSIT_30      22403.876066\n",
       "HHTRANSIT_30        8160.383346\n",
       "COMPAUTO_30       106213.122696\n",
       "COMPTRANSIT_30     14840.300878\n",
       "HH_40                425.365001\n",
       "JOB_40              1403.097928\n",
       "JOBAUTO_40        135644.209805\n",
       "HHAUTO_40          64551.560858\n",
       "JOBTRANSIT_40      23757.992204\n",
       "HHTRANSIT_40        9622.235246\n",
       "COMPAUTO_40       111406.068901\n",
       "COMPTRANSIT_40     16498.942760\n",
       "HH_50                481.483177\n",
       "JOB_50              1506.000118\n",
       "JOBAUTO_50        139888.649210\n",
       "HHAUTO_50          66037.161258\n",
       "JOBTRANSIT_50      24613.262379\n",
       "HHTRANSIT_50       10470.240286\n",
       "COMPAUTO_50       114987.111570\n",
       "COMPTRANSIT_50     17545.923523\n",
       "dtype: float64"
      ]
     },
     "execution_count": 19,
     "metadata": {},
     "output_type": "execute_result"
    }
   ],
   "source": [
    "ato_table.std(numeric_only=True)"
   ]
  },
  {
   "cell_type": "markdown",
   "metadata": {},
   "source": [
    "#### Load older ATO calculations from WFRC website"
   ]
  },
  {
   "cell_type": "code",
   "execution_count": 20,
   "metadata": {},
   "outputs": [
    {
     "name": "stdout",
     "output_type": "stream",
     "text": [
      "(2858, 39)\n",
      "\n",
      "['FID', 'TAZID', 'CO_TAZID', 'DEVACRES', 'SA_2016', 'HH_19', 'JOB_19', 'JOBAUTO_19', 'HHAUTO_19', 'JOBTRANSIT_19', 'HHTRANSIT_19', 'COMPAUTO_19', 'COMPTRANSIT_19', 'HH_30', 'JOB_30', 'JOBAUTO_30', 'HHAUTO_30', 'JOBTRANSIT_30', 'HHTRANSIT_30', 'COMPAUTO_30', 'COMPTRANSIT_30', 'HH_40', 'JOB_40', 'JOBAUTO_40', 'HHAUTO_40', 'JOBTRANSIT_40', 'HHTRANSIT_40', 'COMPAUTO_40', 'COMPTRANSIT_40', 'HH_50', 'JOB_50', 'JOBAUTO_50', 'HHAUTO_50', 'JOBTRANSIT_50', 'HHTRANSIT_50', 'COMPAUTO_50', 'COMPTRANSIT_50', 'SHAPE_Length', 'SHAPE_Area']\n",
      "\n"
     ]
    }
   ],
   "source": [
    "# Read in old ATO csv into pandas\n",
    "ato_old = pd.read_csv(os.path.join(os.getcwd(), \"Data\\\\ATO_From_Web.csv\"))\n",
    "\n",
    "# Check dimensions of old ato data\\n\"\n",
    "print(ato_old.shape)\n",
    "print()\n",
    "\n",
    "print(list(ato_old.columns))\n",
    "print()"
   ]
  },
  {
   "cell_type": "markdown",
   "metadata": {},
   "source": [
    "#### Join Old ATO table to New ATO table using \"CO_TAZID\" as join field, the \"inner\" argument ensures that only matching records are kept\n",
    "\n"
   ]
  },
  {
   "cell_type": "code",
   "execution_count": 21,
   "metadata": {},
   "outputs": [
    {
     "name": "stdout",
     "output_type": "stream",
     "text": [
      "(2858, 73)\n",
      "\n",
      "['TAZID_x', 'CO_TAZID', 'DEVACRES_x', 'HH_19_x', 'JOB_19_x', 'JOBAUTO_19_x', 'HHAUTO_19_x', 'JOBTRANSIT_19_x', 'HHTRANSIT_19_x', 'COMPAUTO_19_x', 'COMPTRANSIT_19_x', 'HH_30_x', 'JOB_30_x', 'JOBAUTO_30_x', 'HHAUTO_30_x', 'JOBTRANSIT_30_x', 'HHTRANSIT_30_x', 'COMPAUTO_30_x', 'COMPTRANSIT_30_x', 'HH_40_x', 'JOB_40_x', 'JOBAUTO_40_x', 'HHAUTO_40_x', 'JOBTRANSIT_40_x', 'HHTRANSIT_40_x', 'COMPAUTO_40_x', 'COMPTRANSIT_40_x', 'HH_50_x', 'JOB_50_x', 'JOBAUTO_50_x', 'HHAUTO_50_x', 'JOBTRANSIT_50_x', 'HHTRANSIT_50_x', 'COMPAUTO_50_x', 'COMPTRANSIT_50_x', 'FID', 'TAZID_y', 'DEVACRES_y', 'SA_2016', 'HH_19_y', 'JOB_19_y', 'JOBAUTO_19_y', 'HHAUTO_19_y', 'JOBTRANSIT_19_y', 'HHTRANSIT_19_y', 'COMPAUTO_19_y', 'COMPTRANSIT_19_y', 'HH_30_y', 'JOB_30_y', 'JOBAUTO_30_y', 'HHAUTO_30_y', 'JOBTRANSIT_30_y', 'HHTRANSIT_30_y', 'COMPAUTO_30_y', 'COMPTRANSIT_30_y', 'HH_40_y', 'JOB_40_y', 'JOBAUTO_40_y', 'HHAUTO_40_y', 'JOBTRANSIT_40_y', 'HHTRANSIT_40_y', 'COMPAUTO_40_y', 'COMPTRANSIT_40_y', 'HH_50_y', 'JOB_50_y', 'JOBAUTO_50_y', 'HHAUTO_50_y', 'JOBTRANSIT_50_y', 'HHTRANSIT_50_y', 'COMPAUTO_50_y', 'COMPTRANSIT_50_y', 'SHAPE_Length', 'SHAPE_Area']\n"
     ]
    }
   ],
   "source": [
    "# Merge new and old ATO data, old fields will have a \"y\" concatenated to them\n",
    "merged_table = ato_table.merge(ato_old, left_on=\"CO_TAZID\", right_on=\"CO_TAZID\", how = 'inner')\n",
    "\n",
    "# Check\n",
    "print(merged_table.shape)\n",
    "print()\n",
    "\n",
    "print(list(merged_table.columns))"
   ]
  },
  {
   "cell_type": "markdown",
   "metadata": {},
   "source": [
    "#### Compare older ATO calculations with new data"
   ]
  },
  {
   "cell_type": "code",
   "execution_count": 22,
   "metadata": {},
   "outputs": [
    {
     "data": {
      "text/html": [
       "<div>\n",
       "<style scoped>\n",
       "    .dataframe tbody tr th:only-of-type {\n",
       "        vertical-align: middle;\n",
       "    }\n",
       "\n",
       "    .dataframe tbody tr th {\n",
       "        vertical-align: top;\n",
       "    }\n",
       "\n",
       "    .dataframe thead th {\n",
       "        text-align: right;\n",
       "    }\n",
       "</style>\n",
       "<table border=\"1\" class=\"dataframe\">\n",
       "  <thead>\n",
       "    <tr style=\"text-align: right;\">\n",
       "      <th></th>\n",
       "      <th>CO_TAZID</th>\n",
       "      <th>JOBAUTO_40_x</th>\n",
       "      <th>JOBAUTO_40_y</th>\n",
       "    </tr>\n",
       "  </thead>\n",
       "  <tbody>\n",
       "    <tr>\n",
       "      <th>0</th>\n",
       "      <td>30001</td>\n",
       "      <td>36928</td>\n",
       "      <td>40311.612283</td>\n",
       "    </tr>\n",
       "    <tr>\n",
       "      <th>1</th>\n",
       "      <td>30002</td>\n",
       "      <td>40523</td>\n",
       "      <td>44125.125747</td>\n",
       "    </tr>\n",
       "    <tr>\n",
       "      <th>2</th>\n",
       "      <td>30003</td>\n",
       "      <td>41731</td>\n",
       "      <td>45420.998210</td>\n",
       "    </tr>\n",
       "    <tr>\n",
       "      <th>3</th>\n",
       "      <td>30004</td>\n",
       "      <td>40861</td>\n",
       "      <td>44508.197343</td>\n",
       "    </tr>\n",
       "    <tr>\n",
       "      <th>4</th>\n",
       "      <td>30005</td>\n",
       "      <td>51647</td>\n",
       "      <td>55929.271967</td>\n",
       "    </tr>\n",
       "    <tr>\n",
       "      <th>5</th>\n",
       "      <td>30006</td>\n",
       "      <td>52896</td>\n",
       "      <td>57268.063715</td>\n",
       "    </tr>\n",
       "    <tr>\n",
       "      <th>6</th>\n",
       "      <td>30007</td>\n",
       "      <td>44213</td>\n",
       "      <td>47982.195651</td>\n",
       "    </tr>\n",
       "    <tr>\n",
       "      <th>7</th>\n",
       "      <td>30008</td>\n",
       "      <td>27075</td>\n",
       "      <td>29653.505508</td>\n",
       "    </tr>\n",
       "    <tr>\n",
       "      <th>8</th>\n",
       "      <td>30009</td>\n",
       "      <td>28432</td>\n",
       "      <td>31129.733371</td>\n",
       "    </tr>\n",
       "    <tr>\n",
       "      <th>9</th>\n",
       "      <td>30010</td>\n",
       "      <td>31319</td>\n",
       "      <td>34251.826759</td>\n",
       "    </tr>\n",
       "    <tr>\n",
       "      <th>10</th>\n",
       "      <td>30011</td>\n",
       "      <td>40731</td>\n",
       "      <td>44326.185435</td>\n",
       "    </tr>\n",
       "    <tr>\n",
       "      <th>11</th>\n",
       "      <td>30012</td>\n",
       "      <td>52907</td>\n",
       "      <td>57175.103101</td>\n",
       "    </tr>\n",
       "    <tr>\n",
       "      <th>12</th>\n",
       "      <td>30013</td>\n",
       "      <td>49709</td>\n",
       "      <td>53848.838567</td>\n",
       "    </tr>\n",
       "    <tr>\n",
       "      <th>13</th>\n",
       "      <td>30014</td>\n",
       "      <td>48168</td>\n",
       "      <td>52235.504332</td>\n",
       "    </tr>\n",
       "    <tr>\n",
       "      <th>14</th>\n",
       "      <td>30015</td>\n",
       "      <td>55976</td>\n",
       "      <td>60521.915829</td>\n",
       "    </tr>\n",
       "  </tbody>\n",
       "</table>\n",
       "</div>"
      ],
      "text/plain": [
       "    CO_TAZID  JOBAUTO_40_x  JOBAUTO_40_y\n",
       "0      30001         36928  40311.612283\n",
       "1      30002         40523  44125.125747\n",
       "2      30003         41731  45420.998210\n",
       "3      30004         40861  44508.197343\n",
       "4      30005         51647  55929.271967\n",
       "5      30006         52896  57268.063715\n",
       "6      30007         44213  47982.195651\n",
       "7      30008         27075  29653.505508\n",
       "8      30009         28432  31129.733371\n",
       "9      30010         31319  34251.826759\n",
       "10     30011         40731  44326.185435\n",
       "11     30012         52907  57175.103101\n",
       "12     30013         49709  53848.838567\n",
       "13     30014         48168  52235.504332\n",
       "14     30015         55976  60521.915829"
      ]
     },
     "execution_count": 22,
     "metadata": {},
     "output_type": "execute_result"
    }
   ],
   "source": [
    "# Compare Jobs accessible via auto (2040)\n",
    "job_auto_2040 = merged_table[['CO_TAZID','JOBAUTO_40_x', 'JOBAUTO_40_y']].copy()\n",
    "job_auto_2040.head(15)\n"
   ]
  },
  {
   "cell_type": "code",
   "execution_count": 23,
   "metadata": {},
   "outputs": [
    {
     "name": "stdout",
     "output_type": "stream",
     "text": [
      "Average Absolute Difference: 0.084454163750877\n"
     ]
    }
   ],
   "source": [
    "# Calculate the difference in DEVACRES, just to confirm join worked correctly\n",
    "merged_table['DEVACRES_DIFF'] = merged_table['DEVACRES_x'] - merged_table['DEVACRES_y']\n",
    "average_diff = merged_table['DEVACRES_DIFF'].map(abs).mean()\n",
    "print(\"Average Absolute Difference: {}\".format(average_diff))"
   ]
  },
  {
   "cell_type": "code",
   "execution_count": 24,
   "metadata": {},
   "outputs": [
    {
     "name": "stdout",
     "output_type": "stream",
     "text": [
      "Average Absolute Difference: 3704.805187879997\n"
     ]
    }
   ],
   "source": [
    "#Calculate the difference in Jobs accessible via auto (2040), store in new column\n",
    "merged_table['JOBAUTO_40_DIFF'] = merged_table['JOBAUTO_40_x'] - merged_table['JOBAUTO_40_y']\n",
    "\n",
    "average_diff = merged_table['JOBAUTO_40_DIFF'].head(15).map(abs).mean()\n",
    "print(\"Average Absolute Difference: {}\".format(average_diff))"
   ]
  },
  {
   "cell_type": "markdown",
   "metadata": {},
   "source": [
    "#### Scatterplot comparing New and Old values"
   ]
  },
  {
   "cell_type": "code",
   "execution_count": 25,
   "metadata": {},
   "outputs": [],
   "source": [
    "# get a sample of the data (first 1000 rows in table)\n",
    "job_auto_2040_sample = job_auto_2040.head(1000).copy()"
   ]
  },
  {
   "cell_type": "code",
   "execution_count": 26,
   "metadata": {},
   "outputs": [
    {
     "data": {
      "text/plain": [
       "<matplotlib.axes._subplots.AxesSubplot at 0x1db5c0ff240>"
      ]
     },
     "execution_count": 26,
     "metadata": {},
     "output_type": "execute_result"
    },
    {
     "data": {
      "image/png": "[encoded data removed]",
      "text/plain": [
       "<Figure size 864x576 with 1 Axes>"
      ]
     },
     "metadata": {
      "needs_background": "light"
     },
     "output_type": "display_data"
    }
   ],
   "source": [
    "# Scatterplot function using new and old data, s argument controls the dot size\n",
    "job_auto_2040_sample.plot.scatter(x='JOBAUTO_40_x', y= 'JOBAUTO_40_y', figsize=(12,8), s=2, xlim=(0,600000), ylim=(0,600000))"
   ]
  },
  {
   "cell_type": "markdown",
   "metadata": {},
   "source": [
    "#### Plot the New and Old values together"
   ]
  },
  {
   "cell_type": "code",
   "execution_count": 27,
   "metadata": {},
   "outputs": [],
   "source": [
    "# get a sample of the data (first 1000 rows in table)\n",
    "job_auto_2040_sample = job_auto_2040.head(30000).copy()"
   ]
  },
  {
   "cell_type": "code",
   "execution_count": 28,
   "metadata": {},
   "outputs": [
    {
     "data": {
      "text/plain": [
       "[Text(0, 0.5, 'Jobs'), Text(0.5, 0, 'Index')]"
      ]
     },
     "execution_count": 28,
     "metadata": {},
     "output_type": "execute_result"
    },
    {
     "data": {
      "image/png": "[encoded data removed]",
      "text/plain": [
       "<Figure size 864x576 with 1 Axes>"
      ]
     },
     "metadata": {
      "needs_background": "light"
     },
     "output_type": "display_data"
    }
   ],
   "source": [
    "# add index for use as x variable, since CO_TAZID is not continous\n",
    "job_auto_2040_sample['fid'] = job_auto_2040_sample.index\n",
    "\n",
    "# Plot first variable (new data)\n",
    "ax = job_auto_2040_sample.plot.scatter(x='fid', y='JOBAUTO_40_x', color='DarkBlue', label='JOBAUTO_40 (NEW)', figsize=(12,8))\n",
    "\n",
    "# Plot second variable (old data)\n",
    "job_auto_2040_sample.plot.scatter(x='fid', y='JOBAUTO_40_y', color='DarkRed', label='JOBAUTO_40 (OLD)', ax=ax)\n",
    "ax.set(xlabel='Index', ylabel='Jobs')"
   ]
  }
 ],
 "metadata": {
  "kernelspec": {
   "display_name": "py3",
   "language": "python",
   "name": "py3"
  },
  "language_info": {
   "codemirror_mode": {
    "name": "ipython",
    "version": 3
   },
   "file_extension": ".py",
   "mimetype": "text/x-python",
   "name": "python",
   "nbconvert_exporter": "python",
   "pygments_lexer": "ipython3",
   "version": "3.6.10"
  }
 },
 "nbformat": 4,
 "nbformat_minor": 2
}
